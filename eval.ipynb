{
 "cells": [
  {
   "cell_type": "code",
   "execution_count": 1,
   "metadata": {},
   "outputs": [],
   "source": [
    "from jadia import Jadia, Segments\n",
    "from jadia.metrics import DER\n",
    "import torch"
   ]
  },
  {
   "cell_type": "markdown",
   "metadata": {},
   "source": [
    "### Diarize"
   ]
  },
  {
   "cell_type": "code",
   "execution_count": 2,
   "metadata": {},
   "outputs": [],
   "source": [
    "# Load model\n",
    "diarizer = Jadia(\n",
    "    device=torch.device(\"cuda:0\"),\n",
    "    model=\"lite\",\n",
    "    batch_size=64,\n",
    ")"
   ]
  },
  {
   "cell_type": "code",
   "execution_count": 3,
   "metadata": {},
   "outputs": [],
   "source": [
    "# Params\n",
    "NUM_VOICES = 5\n",
    "AUDIO_FILENAME = 'S_R004S04C01.flac'\n",
    "RTTM_FILENAME = 'output.rttm'\n",
    "PREDICTIONS_IMAGE_FILENAME = 'preds.png'\n",
    "SEGMENTS_IMAGE_FILENAME = 'segments.png'\n",
    "GROUND_TRUTH_RTTM = 'S_R004S04C01.rttm'"
   ]
  },
  {
   "cell_type": "code",
   "execution_count": 4,
   "metadata": {},
   "outputs": [],
   "source": [
    "# Run as a single command\n",
    "# segments = diarizer.process(AUDIO_FILENAME, num_voices=NUM_VOICES)\n",
    "# or step by step\n",
    "\n",
    "diarizer.setup(num_voices=NUM_VOICES)\n",
    "diarizer.load_audio(filename=AUDIO_FILENAME)\n",
    "predictions = diarizer.predict()\n",
    "segments = diarizer.predictions_to_segments(predictions)\n",
    "\n",
    "# save to RTTM\n",
    "segments.to_rttm_save(fpath=RTTM_FILENAME, overwrite=True)"
   ]
  },
  {
   "cell_type": "markdown",
   "metadata": {},
   "source": [
    "### Eval"
   ]
  },
  {
   "cell_type": "code",
   "execution_count": 5,
   "metadata": {},
   "outputs": [
    {
     "name": "stderr",
     "output_type": "stream",
     "text": [
      "/home/sergey/code/jadia/src/jadia/metrics.py:166: UserWarning: Current DER implementation does not support multispeaker with overlap. Try using other packages.\n",
      "  warnings.warn(\n"
     ]
    },
    {
     "name": "stdout",
     "output_type": "stream",
     "text": [
      "       Confusion: 1847.1136\n",
      "     False alarm: 5808.6176\n",
      "Missed detection: 229.2205\n",
      "           Total: 2078.8480\n",
      "             DER: 3.7929\n"
     ]
    }
   ],
   "source": [
    "reference = Segments().from_rttm_load(GROUND_TRUTH_RTTM)\n",
    "pass\n",
    "der = DER(reference, segments)\n",
    "print(f\"       Confusion: {der['confusion']:.4f}\")\n",
    "print(f\"     False alarm: {der['false alarm']:.4f}\")\n",
    "print(f\"Missed detection: {der['missed detection']:.4f}\")\n",
    "print(f\"           Total: {der['total']:.4f}\")\n",
    "print(f\"             DER: {der['diarization error rate']:.4f}\")\n"
   ]
  },
  {
   "cell_type": "markdown",
   "metadata": {},
   "source": [
    "### Plot (required jadia-plot to be installed)"
   ]
  },
  {
   "cell_type": "code",
   "execution_count": 6,
   "metadata": {},
   "outputs": [],
   "source": [
    "import jadia_plot as plot"
   ]
  },
  {
   "cell_type": "code",
   "execution_count": null,
   "metadata": {},
   "outputs": [],
   "source": [
    "# plot segments\n",
    "plot.plot_segments(\n",
    "    pred=segments,\n",
    "    ground_truth=reference,\n",
    "    filename=SEGMENTS_IMAGE_FILENAME,\n",
    ")\n",
    "# or predictions (+segments)\n",
    "plot.plot_predictions(\n",
    "    predictions=predictions,\n",
    "    segments=segments,\n",
    "    filename=PREDICTIONS_IMAGE_FILENAME,\n",
    "    ground_truth=reference,\n",
    ")"
   ]
  },
  {
   "cell_type": "code",
   "execution_count": null,
   "metadata": {},
   "outputs": [],
   "source": []
  }
 ],
 "metadata": {
  "kernelspec": {
   "display_name": "torch01",
   "language": "python",
   "name": "python3"
  },
  "language_info": {
   "codemirror_mode": {
    "name": "ipython",
    "version": 3
   },
   "file_extension": ".py",
   "mimetype": "text/x-python",
   "name": "python",
   "nbconvert_exporter": "python",
   "pygments_lexer": "ipython3",
   "version": "3.10.13"
  }
 },
 "nbformat": 4,
 "nbformat_minor": 2
}
